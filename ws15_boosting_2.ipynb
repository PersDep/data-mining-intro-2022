{
  "cells": [
    {
      "cell_type": "markdown",
      "metadata": {
        "id": "fIRUUl9WXVIW"
      },
      "source": [
        "## Семинар 15: различные имплементации градиентного бустинга\n",
        "\n",
        "* XGboost + подбор гиперпараметров\n",
        "* CatBoost + SHAP\n",
        "* LightGBM"
      ]
    },
    {
      "cell_type": "markdown",
      "metadata": {
        "id": "ryz0qWh1XVIY"
      },
      "source": [
        "![\"История\"](https://github.com/PersDep/data-mining-intro-2021/blob/main/bst.png?raw=1)"
      ]
    },
    {
      "cell_type": "markdown",
      "metadata": {
        "id": "J3mQrnZ9XVIZ"
      },
      "source": [
        "## 1. XGboost + подбор гиперпараметров\n",
        "\n",
        "Код по xgboost основан на статье https://www.analyticsvidhya.com/blog/2016/03/complete-guide-parameter-tuning-xgboost-with-codes-python/"
      ]
    },
    {
      "cell_type": "markdown",
      "metadata": {
        "id": "YZ4BTb18XVIZ"
      },
      "source": [
        "Основные особенности xgboost:\n",
        "* базовый алгоритм приближает направление, посчитанное с учетом второй производной функции потерь\n",
        "\n",
        "* функционал регуляризуется – добавляются штрафы за количество листьев и за норму коэффициентов\n",
        "\n",
        "* при построении дерева используется критерий информативности, зависящий от оптимального вектора сдвига\n",
        "\n",
        "* критерий останова при обучении дерева также зависит от оптимального сдвига\n",
        "\n",
        "Почитать подробнее тут: https://github.com/esokolov/ml-course-hse/blob/master/2020-fall/lecture-notes/lecture10-ensembles.pdf"
      ]
    },
    {
      "cell_type": "code",
      "execution_count": 2,
      "metadata": {
        "id": "dF_EsEdsXVIa",
        "outputId": "7aef3368-91f2-4615-db7a-5b7a4008e67f",
        "colab": {
          "base_uri": "https://localhost:8080/"
        }
      },
      "outputs": [
        {
          "output_type": "stream",
          "name": "stdout",
          "text": [
            "Populating the interactive namespace from numpy and matplotlib\n"
          ]
        }
      ],
      "source": [
        "import pandas as pd\n",
        "import os\n",
        "import numpy as np\n",
        "from matplotlib import pylab as plot\n",
        "%pylab inline\n",
        "\n",
        "import xgboost as xgb\n",
        "from xgboost.sklearn import XGBClassifier"
      ]
    },
    {
      "cell_type": "markdown",
      "metadata": {
        "id": "JnubaZJPXVIb"
      },
      "source": [
        "Будем решать задачу классификации: по различным характеристикам клиента попытаемся определить, выплатит клиент долг или нет."
      ]
    },
    {
      "cell_type": "code",
      "execution_count": 20,
      "metadata": {
        "id": "WVgLvWZ4XVIb",
        "outputId": "a9f7dad8-7b48-4ee1-8cc9-3da1384a1cca",
        "colab": {
          "base_uri": "https://localhost:8080/"
        }
      },
      "outputs": [
        {
          "output_type": "execute_result",
          "data": {
            "text/plain": [
              "(24365, 10443)"
            ]
          },
          "metadata": {},
          "execution_count": 20
        }
      ],
      "source": [
        "X_train = pd.read_csv('https://raw.githubusercontent.com/hse-ds/iad-intro-ds/master/2022/seminars/sem15_boostings/train_small.csv')\n",
        "X_test = pd.read_csv('https://raw.githubusercontent.com/hse-ds/iad-intro-ds/master/2022/seminars/sem15_boostings/test_small.csv')\n",
        "len(X_train), len(X_test)"
      ]
    },
    {
      "cell_type": "code",
      "execution_count": 4,
      "metadata": {
        "id": "oaotHL6ZXVIc",
        "outputId": "76b21a63-dd78-412a-838a-4ce122aaddc8",
        "colab": {
          "base_uri": "https://localhost:8080/",
          "height": 255
        }
      },
      "outputs": [
        {
          "output_type": "execute_result",
          "data": {
            "text/plain": [
              "   Existing_EMI  Loan_Amount_Applied  Loan_Tenure_Applied  Monthly_Income  \\\n",
              "0           0.0             250000.0                  5.0           23200   \n",
              "1           0.0                  0.0                  0.0           25000   \n",
              "2           0.0                  0.0                  0.0           95000   \n",
              "3           0.0                  0.0                  0.0           29880   \n",
              "4        4500.0             100000.0                  3.0           30000   \n",
              "\n",
              "   Var4  Var5  Age  EMI_Loan_Submitted_Missing  Interest_Rate_Missing  \\\n",
              "0     2     3   28                           1                      1   \n",
              "1     0     0   33                           1                      1   \n",
              "2     3     7   39                           1                      1   \n",
              "3     5     3   28                           0                      0   \n",
              "4     5    10   26                           0                      0   \n",
              "\n",
              "   Loan_Amount_Submitted_Missing  ...  Var2_4  Var2_5  Var2_6  \\\n",
              "0                              0  ...       0       0       0   \n",
              "1                              1  ...       0       0       1   \n",
              "2                              0  ...       0       0       1   \n",
              "3                              0  ...       0       0       0   \n",
              "4                              0  ...       0       0       1   \n",
              "\n",
              "   Mobile_Verified_0  Mobile_Verified_1  Source_0  Source_1  Source_2  \\\n",
              "0                  0                  1         0         1         0   \n",
              "1                  0                  1         1         0         0   \n",
              "2                  0                  1         1         0         0   \n",
              "3                  0                  1         0         1         0   \n",
              "4                  0                  1         1         0         0   \n",
              "\n",
              "   Disbursed     ID  \n",
              "0        0.0   8161  \n",
              "1        0.0  77530  \n",
              "2        0.0  80633  \n",
              "3        0.0  45059  \n",
              "4        0.0  54857  \n",
              "\n",
              "[5 rows x 51 columns]"
            ],
            "text/html": [
              "<div>\n",
              "<style scoped>\n",
              "    .dataframe tbody tr th:only-of-type {\n",
              "        vertical-align: middle;\n",
              "    }\n",
              "\n",
              "    .dataframe tbody tr th {\n",
              "        vertical-align: top;\n",
              "    }\n",
              "\n",
              "    .dataframe thead th {\n",
              "        text-align: right;\n",
              "    }\n",
              "</style>\n",
              "<table border=\"1\" class=\"dataframe\">\n",
              "  <thead>\n",
              "    <tr style=\"text-align: right;\">\n",
              "      <th></th>\n",
              "      <th>Existing_EMI</th>\n",
              "      <th>Loan_Amount_Applied</th>\n",
              "      <th>Loan_Tenure_Applied</th>\n",
              "      <th>Monthly_Income</th>\n",
              "      <th>Var4</th>\n",
              "      <th>Var5</th>\n",
              "      <th>Age</th>\n",
              "      <th>EMI_Loan_Submitted_Missing</th>\n",
              "      <th>Interest_Rate_Missing</th>\n",
              "      <th>Loan_Amount_Submitted_Missing</th>\n",
              "      <th>...</th>\n",
              "      <th>Var2_4</th>\n",
              "      <th>Var2_5</th>\n",
              "      <th>Var2_6</th>\n",
              "      <th>Mobile_Verified_0</th>\n",
              "      <th>Mobile_Verified_1</th>\n",
              "      <th>Source_0</th>\n",
              "      <th>Source_1</th>\n",
              "      <th>Source_2</th>\n",
              "      <th>Disbursed</th>\n",
              "      <th>ID</th>\n",
              "    </tr>\n",
              "  </thead>\n",
              "  <tbody>\n",
              "    <tr>\n",
              "      <th>0</th>\n",
              "      <td>0.0</td>\n",
              "      <td>250000.0</td>\n",
              "      <td>5.0</td>\n",
              "      <td>23200</td>\n",
              "      <td>2</td>\n",
              "      <td>3</td>\n",
              "      <td>28</td>\n",
              "      <td>1</td>\n",
              "      <td>1</td>\n",
              "      <td>0</td>\n",
              "      <td>...</td>\n",
              "      <td>0</td>\n",
              "      <td>0</td>\n",
              "      <td>0</td>\n",
              "      <td>0</td>\n",
              "      <td>1</td>\n",
              "      <td>0</td>\n",
              "      <td>1</td>\n",
              "      <td>0</td>\n",
              "      <td>0.0</td>\n",
              "      <td>8161</td>\n",
              "    </tr>\n",
              "    <tr>\n",
              "      <th>1</th>\n",
              "      <td>0.0</td>\n",
              "      <td>0.0</td>\n",
              "      <td>0.0</td>\n",
              "      <td>25000</td>\n",
              "      <td>0</td>\n",
              "      <td>0</td>\n",
              "      <td>33</td>\n",
              "      <td>1</td>\n",
              "      <td>1</td>\n",
              "      <td>1</td>\n",
              "      <td>...</td>\n",
              "      <td>0</td>\n",
              "      <td>0</td>\n",
              "      <td>1</td>\n",
              "      <td>0</td>\n",
              "      <td>1</td>\n",
              "      <td>1</td>\n",
              "      <td>0</td>\n",
              "      <td>0</td>\n",
              "      <td>0.0</td>\n",
              "      <td>77530</td>\n",
              "    </tr>\n",
              "    <tr>\n",
              "      <th>2</th>\n",
              "      <td>0.0</td>\n",
              "      <td>0.0</td>\n",
              "      <td>0.0</td>\n",
              "      <td>95000</td>\n",
              "      <td>3</td>\n",
              "      <td>7</td>\n",
              "      <td>39</td>\n",
              "      <td>1</td>\n",
              "      <td>1</td>\n",
              "      <td>0</td>\n",
              "      <td>...</td>\n",
              "      <td>0</td>\n",
              "      <td>0</td>\n",
              "      <td>1</td>\n",
              "      <td>0</td>\n",
              "      <td>1</td>\n",
              "      <td>1</td>\n",
              "      <td>0</td>\n",
              "      <td>0</td>\n",
              "      <td>0.0</td>\n",
              "      <td>80633</td>\n",
              "    </tr>\n",
              "    <tr>\n",
              "      <th>3</th>\n",
              "      <td>0.0</td>\n",
              "      <td>0.0</td>\n",
              "      <td>0.0</td>\n",
              "      <td>29880</td>\n",
              "      <td>5</td>\n",
              "      <td>3</td>\n",
              "      <td>28</td>\n",
              "      <td>0</td>\n",
              "      <td>0</td>\n",
              "      <td>0</td>\n",
              "      <td>...</td>\n",
              "      <td>0</td>\n",
              "      <td>0</td>\n",
              "      <td>0</td>\n",
              "      <td>0</td>\n",
              "      <td>1</td>\n",
              "      <td>0</td>\n",
              "      <td>1</td>\n",
              "      <td>0</td>\n",
              "      <td>0.0</td>\n",
              "      <td>45059</td>\n",
              "    </tr>\n",
              "    <tr>\n",
              "      <th>4</th>\n",
              "      <td>4500.0</td>\n",
              "      <td>100000.0</td>\n",
              "      <td>3.0</td>\n",
              "      <td>30000</td>\n",
              "      <td>5</td>\n",
              "      <td>10</td>\n",
              "      <td>26</td>\n",
              "      <td>0</td>\n",
              "      <td>0</td>\n",
              "      <td>0</td>\n",
              "      <td>...</td>\n",
              "      <td>0</td>\n",
              "      <td>0</td>\n",
              "      <td>1</td>\n",
              "      <td>0</td>\n",
              "      <td>1</td>\n",
              "      <td>1</td>\n",
              "      <td>0</td>\n",
              "      <td>0</td>\n",
              "      <td>0.0</td>\n",
              "      <td>54857</td>\n",
              "    </tr>\n",
              "  </tbody>\n",
              "</table>\n",
              "<p>5 rows × 51 columns</p>\n",
              "</div>"
            ]
          },
          "metadata": {},
          "execution_count": 4
        }
      ],
      "source": [
        "X_train.head()"
      ]
    },
    {
      "cell_type": "markdown",
      "metadata": {
        "id": "ySQfCDAcXVId"
      },
      "source": [
        "Для того, чтобы бустинг показал хорошее качество и не переобучился, необходимо аккуратно подобрать его гиперпараметры. \n",
        "\n",
        "Алгоритм подбора гиперпараметров следующий:\n",
        "\n",
        "* Выбираем относительно большую learning_rate ($ \\eta \\in [0.05, 0.3]$), подбираем оптимальное число деревьев для выбранного $ \\eta $\n",
        "\n",
        "* Настраиваем параметры деревьев, начиная с самых значимых (max_depth, min_child_weight, gamma, subsample, colsample_bytree)\n",
        "\n",
        "* Настраиваем регуляризации ($ \\lambda, \\alpha $)\n",
        "\n",
        "* Уменьшаем learning_rate, пропорционально увеличиваем число деревьев"
      ]
    },
    {
      "cell_type": "code",
      "execution_count": 17,
      "metadata": {
        "id": "3cTKmDopXVId"
      },
      "outputs": [],
      "source": [
        "xgb1 = XGBClassifier(\n",
        "        learning_rate=0.1,\n",
        "        n_estimators=150,\n",
        "        objective= 'binary:logistic',\n",
        "        nthread=4,\n",
        "        scale_pos_weight=1,\n",
        "        seed=27)"
      ]
    },
    {
      "cell_type": "code",
      "execution_count": 18,
      "metadata": {
        "id": "Sjaa7V3TXVIe"
      },
      "outputs": [],
      "source": [
        "target='Disbursed'\n",
        "IDcol = 'ID'"
      ]
    },
    {
      "cell_type": "code",
      "execution_count": 19,
      "metadata": {
        "id": "hRkNyJXJXVIe",
        "outputId": "fb2ae5a9-825c-432c-da38-4d6bbd0f0b63",
        "colab": {
          "base_uri": "https://localhost:8080/"
        }
      },
      "outputs": [
        {
          "output_type": "stream",
          "name": "stdout",
          "text": [
            "24365\n"
          ]
        },
        {
          "output_type": "execute_result",
          "data": {
            "text/plain": [
              "0.0    23999\n",
              "1.0      366\n",
              "Name: Disbursed, dtype: int64"
            ]
          },
          "metadata": {},
          "execution_count": 19
        }
      ],
      "source": [
        "print(len(X_train))\n",
        "X_train['Disbursed'].value_counts()"
      ]
    },
    {
      "cell_type": "markdown",
      "metadata": {
        "id": "fETfL7FSXVIf"
      },
      "source": [
        "Создадим функцию для моделирования и кросс-валидации\n",
        "\n",
        "Эта функция делает следующее:\n",
        "1. обучает модель\n",
        "2. вычисляет accuracy на тренировочной выборке\n",
        "3. вычисляет AUC на тренировочной выборке\n",
        "4. вычисляет AUC на тестовой выборке\n",
        "5. обновляет n_estimators с помощью встроенной в пакет xgboost функции cv\n",
        "6. строит диаграмму Feature Importance "
      ]
    },
    {
      "cell_type": "code",
      "execution_count": 16,
      "metadata": {
        "id": "Q3XGhkDZXVIf"
      },
      "outputs": [],
      "source": [
        "from sklearn import metrics\n",
        "\n",
        "def modelfit(alg, dtrain, dtest, predictors, useTrainCV=True, cv_folds=5, \\\n",
        "             early_stopping_rounds=50):\n",
        "    \n",
        "    if useTrainCV:\n",
        "        xgb_param = alg.get_xgb_params()\n",
        "        xgtrain = xgb.DMatrix(dtrain[predictors].values, label=dtrain[target].values)\n",
        "        xgtest = xgb.DMatrix(dtest[predictors].values)\n",
        "        cvresult = xgb.cv(xgb_param, xgtrain, num_boost_round=alg.get_params()['n_estimators'], nfold=cv_folds,\n",
        "            metrics='auc', early_stopping_rounds=early_stopping_rounds)\n",
        "        alg.set_params(n_estimators=cvresult.shape[0])\n",
        "    \n",
        "    #Fit the algorithm on the data\n",
        "    alg.fit(dtrain[predictors], dtrain['Disbursed'],eval_metric='auc')\n",
        "        \n",
        "    #Predict training set:\n",
        "    dtrain_predictions = alg.predict(dtrain[predictors])\n",
        "    dtrain_predprob = alg.predict_proba(dtrain[predictors])[:,1]\n",
        "        \n",
        "    #Print model report:\n",
        "    print(\"\\nModel Report\")\n",
        "    print(\"Accuracy : %.4g\" % metrics.accuracy_score(dtrain['Disbursed'].values, dtrain_predictions))\n",
        "    print(\"AUC Score (Train): %f\" % metrics.roc_auc_score(dtrain['Disbursed'], dtrain_predprob))\n",
        "    \n",
        "    #Predict on testing data:\n",
        "    dtest['predprob'] = alg.predict_proba(dtest[predictors])[:,1]\n",
        "    print('AUC Score (Test): %f' % metrics.roc_auc_score(dtest['Disbursed'], dtest['predprob']))\n",
        "                \n",
        "    feat_imp = pd.Series(alg.get_booster().get_fscore()).sort_values(ascending=False)\n",
        "    feat_imp.plot(kind='bar', title='Feature Importances')\n",
        "    plt.ylabel('Feature Importance Score')"
      ]
    },
    {
      "cell_type": "markdown",
      "metadata": {
        "id": "s2rl_CBhXVIg"
      },
      "source": [
        "Начинаем последовательный подбор параметров при большом learning_rate"
      ]
    },
    {
      "cell_type": "code",
      "execution_count": 22,
      "metadata": {
        "id": "sXRWfHn-XVIg",
        "outputId": "73bc42b8-6599-4ced-9d44-650a2ad399aa",
        "colab": {
          "base_uri": "https://localhost:8080/",
          "height": 580
        }
      },
      "outputs": [
        {
          "output_type": "stream",
          "name": "stderr",
          "text": [
            "C:\\Program Files\\Python310\\lib\\site-packages\\xgboost\\sklearn.py:793: UserWarning: `eval_metric` in `fit` method is deprecated for better compatibility with scikit-learn, use `eval_metric` in constructor or`set_params` instead.\n",
            "  warnings.warn(\n"
          ]
        },
        {
          "output_type": "stream",
          "name": "stdout",
          "text": [
            "\n",
            "Model Report\n",
            "Accuracy : 0.985\n",
            "AUC Score (Train): 0.926003\n",
            "AUC Score (Test): 0.831614\n"
          ]
        },
        {
          "output_type": "display_data",
          "data": {
            "text/plain": [
              "<Figure size 432x288 with 1 Axes>"
            ],
            "image/png": "[encoded data removed]"
          },
          "metadata": {
            "needs_background": "light"
          }
        }
      ],
      "source": [
        "predictors = [x for x in X_train.columns if x not in [target, IDcol]]\n",
        "xgb1 = XGBClassifier(\n",
        "        learning_rate=0.1,\n",
        "        n_estimators=150,\n",
        "        objective= 'binary:logistic',\n",
        "        nthread=4,\n",
        "        scale_pos_weight=1,\n",
        "        seed=27)\n",
        "modelfit(xgb1, X_train, X_test, predictors)"
      ]
    },
    {
      "cell_type": "code",
      "source": [
        "from sklearn.ensemble import GradientBoostingClassifier\n",
        "from sklearn.metrics import roc_auc_score, accuracy_score\n",
        "\n",
        "gb = GradientBoostingClassifier(n_estimators=150, learning_rate=0.1)\n",
        "gb.fit(X_train[predictors], X_train['Disbursed'])\n",
        "pred_gb = gb.predict_proba(X_train[predictors])\n",
        "print(roc_auc_score(X_train['Disbursed'], pred_gb[:, 1]))\n",
        "pred_gb = gb.predict_proba(X_test[predictors])\n",
        "print(roc_auc_score(X_test['Disbursed'], pred_gb[:, 1]))\n",
        "# print(accuracy_score(X_test['Disbursed'], pred_gb[:, 1]))"
      ],
      "metadata": {
        "id": "z1t_Momwm4kp",
        "outputId": "6eecc619-393a-455f-f574-36cdbd8fcd8b",
        "colab": {
          "base_uri": "https://localhost:8080/"
        }
      },
      "execution_count": 26,
      "outputs": [
        {
          "output_type": "stream",
          "name": "stdout",
          "text": [
            "0.9028869486137514\n",
            "0.8295613391792447\n"
          ]
        }
      ]
    },
    {
      "cell_type": "markdown",
      "metadata": {
        "id": "LvYlIpPFXVIg"
      },
      "source": [
        "Перебираем max_depth и min_child_weight по сетке."
      ]
    },
    {
      "cell_type": "code",
      "execution_count": 33,
      "metadata": {
        "id": "Yl4ZBMviXVIg",
        "outputId": "91c37e49-787a-41a6-bf08-5f6bbc06c426",
        "colab": {
          "base_uri": "https://localhost:8080/"
        }
      },
      "outputs": [
        {
          "output_type": "execute_result",
          "data": {
            "text/plain": [
              "GridSearchCV(cv=5,\n",
              "             estimator=XGBClassifier(base_score=None, booster=None,\n",
              "                                     callbacks=None, colsample_bylevel=None,\n",
              "                                     colsample_bynode=None,\n",
              "                                     colsample_bytree=None,\n",
              "                                     early_stopping_rounds=None,\n",
              "                                     enable_categorical=False, eval_metric=None,\n",
              "                                     gamma=None, gpu_id=None, grow_policy=None,\n",
              "                                     importance_type=None,\n",
              "                                     interaction_constraints=None,\n",
              "                                     learning_rate=0.1, max_bin=None,\n",
              "                                     max_cat_to_onehot=None,\n",
              "                                     max_delta_step=None, max_depth=None,\n",
              "                                     max_leaves=None, min_child_weight=None,\n",
              "                                     missing=nan, monotone_constraints=None,\n",
              "                                     n_estimators=150, n_jobs=None, nthread=4,\n",
              "                                     num_parallel_tree=None, predictor=None,\n",
              "                                     random_state=None, reg_alpha=None, ...),\n",
              "             n_jobs=4,\n",
              "             param_grid={'max_depth': range(2, 6),\n",
              "                         'min_child_weight': range(3, 7)},\n",
              "             scoring='roc_auc')"
            ]
          },
          "metadata": {},
          "execution_count": 33
        }
      ],
      "source": [
        "from sklearn.model_selection import GridSearchCV\n",
        "\n",
        "param_test1 = {\n",
        "    'max_depth':range(2,6,1),\n",
        "    'min_child_weight':range(3,7,1)\n",
        "}\n",
        "gsearch1 = GridSearchCV(estimator = XGBClassifier(learning_rate=0.1, n_estimators=150,\n",
        "                                        objective= 'binary:logistic', nthread=4, scale_pos_weight=1, seed=27), \n",
        "                       param_grid = param_test1, scoring='roc_auc',n_jobs=4, cv=5)\n",
        "gsearch1.fit(X_train[predictors],X_train[target])"
      ]
    },
    {
      "cell_type": "code",
      "execution_count": 36,
      "metadata": {
        "id": "DkSx_MgPXVIh",
        "outputId": "0eddcab1-7668-48cd-882b-f11e49c36abe",
        "colab": {
          "base_uri": "https://localhost:8080/"
        }
      },
      "outputs": [
        {
          "output_type": "execute_result",
          "data": {
            "text/plain": [
              "({'max_depth': 3, 'min_child_weight': 4}, 0.8275727094238364)"
            ]
          },
          "metadata": {},
          "execution_count": 36
        }
      ],
      "source": [
        "gsearch1.best_params_, gsearch1.best_score_"
      ]
    },
    {
      "cell_type": "markdown",
      "metadata": {
        "id": "1Z7PVqtjXVIh"
      },
      "source": [
        "Уточняем предсказание"
      ]
    },
    {
      "cell_type": "code",
      "execution_count": 31,
      "metadata": {
        "id": "qLVfLVE2XVIh",
        "outputId": "0d357d38-2d39-4aa8-e1dd-fa6b290d1ad8",
        "colab": {
          "base_uri": "https://localhost:8080/"
        }
      },
      "outputs": [
        {
          "output_type": "execute_result",
          "data": {
            "text/plain": [
              "GridSearchCV(cv=5,\n",
              "             estimator=XGBClassifier(base_score=None, booster=None,\n",
              "                                     callbacks=None, colsample_bylevel=None,\n",
              "                                     colsample_bynode=None,\n",
              "                                     colsample_bytree=None,\n",
              "                                     early_stopping_rounds=None,\n",
              "                                     enable_categorical=False, eval_metric=None,\n",
              "                                     gamma=None, gpu_id=None, grow_policy=None,\n",
              "                                     importance_type=None,\n",
              "                                     interaction_constraints=None,\n",
              "                                     learning_rate=0.1, max_bin=None,\n",
              "                                     max_cat_to_onehot=None,\n",
              "                                     max_delta_step=None, max_depth=None,\n",
              "                                     max_leaves=None, min_child_weight=None,\n",
              "                                     missing=nan, monotone_constraints=None,\n",
              "                                     n_estimators=150, n_jobs=None, nthread=4,\n",
              "                                     num_parallel_tree=None, predictor=None,\n",
              "                                     random_state=None, reg_alpha=None, ...),\n",
              "             n_jobs=4,\n",
              "             param_grid={'max_depth': [3, 4, 5], 'min_child_weight': [4, 5, 6]},\n",
              "             scoring='roc_auc')"
            ]
          },
          "metadata": {},
          "execution_count": 31
        }
      ],
      "source": [
        "param_test2 = {\n",
        "    'max_depth':[3,4,5],\n",
        "    'min_child_weight':[4,5,6]\n",
        "}\n",
        "gsearch2 = GridSearchCV(estimator = XGBClassifier( learning_rate=0.1, n_estimators=150, \n",
        "                                        objective= 'binary:logistic', nthread=4, scale_pos_weight=1,seed=27), \n",
        "                       param_grid = param_test2, scoring='roc_auc',n_jobs=4, cv=5)\n",
        "gsearch2.fit(X_train[predictors],X_train[target])"
      ]
    },
    {
      "cell_type": "code",
      "execution_count": 32,
      "metadata": {
        "id": "qgxNGP8eXVIh",
        "outputId": "5074c6f2-d86a-4a47-d393-df51b13bd3ad",
        "colab": {
          "base_uri": "https://localhost:8080/"
        }
      },
      "outputs": [
        {
          "output_type": "execute_result",
          "data": {
            "text/plain": [
              "({'max_depth': 3, 'min_child_weight': 4}, 0.8275727094238364)"
            ]
          },
          "metadata": {},
          "execution_count": 32
        }
      ],
      "source": [
        "gsearch2.best_params_, gsearch2.best_score_"
      ]
    },
    {
      "cell_type": "markdown",
      "metadata": {
        "id": "Wh-5wOhiXVIh"
      },
      "source": [
        "Зафиксируем найденный max_depth и подберем min_child_weight"
      ]
    },
    {
      "cell_type": "code",
      "execution_count": 38,
      "metadata": {
        "id": "X28T5wryXVIh",
        "outputId": "3564a58f-b301-4683-829b-d750a532fa54",
        "colab": {
          "base_uri": "https://localhost:8080/"
        }
      },
      "outputs": [
        {
          "output_type": "execute_result",
          "data": {
            "text/plain": [
              "GridSearchCV(cv=5,\n",
              "             estimator=XGBClassifier(base_score=None, booster=None,\n",
              "                                     callbacks=None, colsample_bylevel=None,\n",
              "                                     colsample_bynode=None,\n",
              "                                     colsample_bytree=None,\n",
              "                                     early_stopping_rounds=None,\n",
              "                                     enable_categorical=False, eval_metric=None,\n",
              "                                     gamma=None, gpu_id=None, grow_policy=None,\n",
              "                                     importance_type=None,\n",
              "                                     interaction_constraints=None,\n",
              "                                     learning_rate=0.1, max_bin=None,\n",
              "                                     max_cat_to_onehot=None,\n",
              "                                     max_delta_step=None, max_depth=3,\n",
              "                                     max_leaves=None, min_child_weight=None,\n",
              "                                     missing=nan, monotone_constraints=None,\n",
              "                                     n_estimators=150, n_jobs=None, nthread=4,\n",
              "                                     num_parallel_tree=None, predictor=None,\n",
              "                                     random_state=None, reg_alpha=None, ...),\n",
              "             n_jobs=4, param_grid={'min_child_weight': [3, 4, 5, 6, 7, 8]},\n",
              "             scoring='roc_auc')"
            ]
          },
          "metadata": {},
          "execution_count": 38
        }
      ],
      "source": [
        "param_test2b = {\n",
        "    'min_child_weight':[3, 4, 5,6,7, 8]\n",
        "}\n",
        "gsearch2b = GridSearchCV(estimator = XGBClassifier( learning_rate=0.1, n_estimators=150, max_depth=3,\n",
        "                                        objective= 'binary:logistic', nthread=4, scale_pos_weight=1,seed=27), \n",
        "                       param_grid = param_test2b, scoring='roc_auc',n_jobs=4, cv=5)\n",
        "gsearch2b.fit(X_train[predictors],X_train[target])"
      ]
    },
    {
      "cell_type": "code",
      "execution_count": 39,
      "metadata": {
        "id": "SJuSZsb_XVIi",
        "outputId": "ed265ef8-0d4e-4f29-983d-6b0ff96c13a7",
        "colab": {
          "base_uri": "https://localhost:8080/"
        }
      },
      "outputs": [
        {
          "output_type": "execute_result",
          "data": {
            "text/plain": [
              "({'min_child_weight': 4}, 0.8275727094238364)"
            ]
          },
          "metadata": {},
          "execution_count": 39
        }
      ],
      "source": [
        "gsearch2b.best_params_, gsearch2b.best_score_"
      ]
    },
    {
      "cell_type": "markdown",
      "metadata": {
        "id": "YFiatx0tXVIi"
      },
      "source": [
        "Мы подобрали max_depth и min_child_weight - дальше будем использовать подобранные значения параметров. Подберите по сетке параметр gamma на отрезке от 0 до 1."
      ]
    },
    {
      "cell_type": "code",
      "execution_count": 43,
      "metadata": {
        "id": "-37NbRzMXVIi",
        "outputId": "ca6b2dc9-898f-42b8-d5e1-d132d4f172be",
        "colab": {
          "base_uri": "https://localhost:8080/"
        }
      },
      "outputs": [
        {
          "output_type": "execute_result",
          "data": {
            "text/plain": [
              "GridSearchCV(cv=5,\n",
              "             estimator=XGBClassifier(base_score=None, booster=None,\n",
              "                                     callbacks=None, colsample_bylevel=None,\n",
              "                                     colsample_bynode=None,\n",
              "                                     colsample_bytree=None,\n",
              "                                     early_stopping_rounds=None,\n",
              "                                     enable_categorical=False, eval_metric=None,\n",
              "                                     gamma=None, gpu_id=None, grow_policy=None,\n",
              "                                     importance_type=None,\n",
              "                                     interaction_constraints=None,\n",
              "                                     learning_rate=0.1, max_bin=None,\n",
              "                                     max_cat_to_onehot=None,\n",
              "                                     max_delta_step=None, max_depth=3,\n",
              "                                     max_leaves=None, min_child_weight=4,\n",
              "                                     missing=nan, monotone_constraints=None,\n",
              "                                     n_estimators=150, n_jobs=None, nthread=4,\n",
              "                                     num_parallel_tree=None, predictor=None,\n",
              "                                     random_state=None, reg_alpha=None, ...),\n",
              "             n_jobs=4, param_grid={'gamma': [0.2, 0.3, 0.35, 0.4, 0.45]},\n",
              "             scoring='roc_auc')"
            ]
          },
          "metadata": {},
          "execution_count": 43
        }
      ],
      "source": [
        "param_test3 = {\n",
        "    'gamma':[0.2, 0.3, 0.35, 0.4, 0.45]\n",
        "}\n",
        "gsearch3b = GridSearchCV(estimator = XGBClassifier( learning_rate=0.1, n_estimators=150, max_depth=3, min_child_weight=4,\n",
        "                                        objective= 'binary:logistic', nthread=4, scale_pos_weight=1,seed=27), \n",
        "                       param_grid = param_test3, scoring='roc_auc',n_jobs=4, cv=5)\n",
        "gsearch3b.fit(X_train[predictors],X_train[target])"
      ]
    },
    {
      "cell_type": "code",
      "execution_count": 42,
      "metadata": {
        "id": "BqHxkXkRXVIi",
        "outputId": "2ceb6419-76e1-4721-82ca-6909a69e6999",
        "colab": {
          "base_uri": "https://localhost:8080/"
        }
      },
      "outputs": [
        {
          "output_type": "execute_result",
          "data": {
            "text/plain": [
              "({'gamma': 0.4}, 0.827317833413143)"
            ]
          },
          "metadata": {},
          "execution_count": 42
        }
      ],
      "source": [
        "gsearch3b.best_params_, gsearch3b.best_score_"
      ]
    },
    {
      "cell_type": "markdown",
      "metadata": {
        "id": "F_EC-s1JXVIi"
      },
      "source": [
        "Установите в качестве параметров алгоритма подобранные max_depth, min_child_weight и gamma и посмотрите как изменилось качество."
      ]
    },
    {
      "cell_type": "code",
      "execution_count": 46,
      "metadata": {
        "id": "8gcFpB_eXVIi",
        "outputId": "88335491-4f60-4235-d41d-4df7935e92c5",
        "colab": {
          "base_uri": "https://localhost:8080/",
          "height": 580
        }
      },
      "outputs": [
        {
          "output_type": "stream",
          "name": "stderr",
          "text": [
            "C:\\Program Files\\Python310\\lib\\site-packages\\xgboost\\sklearn.py:793: UserWarning: `eval_metric` in `fit` method is deprecated for better compatibility with scikit-learn, use `eval_metric` in constructor or`set_params` instead.\n",
            "  warnings.warn(\n"
          ]
        },
        {
          "output_type": "stream",
          "name": "stdout",
          "text": [
            "\n",
            "Model Report\n",
            "Accuracy : 0.985\n",
            "AUC Score (Train): 0.884482\n",
            "AUC Score (Test): 0.830648\n"
          ]
        },
        {
          "output_type": "display_data",
          "data": {
            "text/plain": [
              "<Figure size 432x288 with 1 Axes>"
            ],
            "image/png": "[encoded data removed]"
          },
          "metadata": {
            "needs_background": "light"
          }
        }
      ],
      "source": [
        "predictors = [x for x in X_train.columns if x not in [target, IDcol]]\n",
        "xgb2 = XGBClassifier(\n",
        "        learning_rate =0.1,\n",
        "        n_estimators=150,\n",
        "        max_depth=3,\n",
        "        min_child_weight=4,\n",
        "        gamma=0.4,\n",
        "        objective= 'binary:logitraw',\n",
        "        nthread=4,\n",
        "        scale_pos_weight=1,\n",
        "        seed=27)\n",
        "modelfit(xgb2, X_train, X_test, predictors)"
      ]
    },
    {
      "cell_type": "markdown",
      "metadata": {
        "id": "7nxmO8OvXVIi"
      },
      "source": [
        "Подберите по сетке параметры subsample и colsample_bytree. Используйте значения этих параметров: [0.6,0.7,0.8,0.9,1.]"
      ]
    },
    {
      "cell_type": "code",
      "execution_count": 47,
      "metadata": {
        "id": "DS8IzM1zXVIi",
        "outputId": "c885f275-9424-44ec-edac-49d4396d3fa5",
        "colab": {
          "base_uri": "https://localhost:8080/"
        }
      },
      "outputs": [
        {
          "output_type": "execute_result",
          "data": {
            "text/plain": [
              "GridSearchCV(cv=5,\n",
              "             estimator=XGBClassifier(base_score=None, booster=None,\n",
              "                                     callbacks=None, colsample_bylevel=None,\n",
              "                                     colsample_bynode=None,\n",
              "                                     colsample_bytree=None,\n",
              "                                     early_stopping_rounds=None,\n",
              "                                     enable_categorical=False, eval_metric=None,\n",
              "                                     gamma=0.4, gpu_id=None, grow_policy=None,\n",
              "                                     importance_type=None,\n",
              "                                     interaction_constraints=None,\n",
              "                                     learning_rate=0.1, max_bin=None,\n",
              "                                     max_cat_...nehot=None,\n",
              "                                     max_delta_step=None, max_depth=3,\n",
              "                                     max_leaves=None, min_child_weight=4,\n",
              "                                     missing=nan, monotone_constraints=None,\n",
              "                                     n_estimators=150, n_jobs=None, nthread=4,\n",
              "                                     num_parallel_tree=None, predictor=None,\n",
              "                                     random_state=None, reg_alpha=None, ...),\n",
              "             n_jobs=4,\n",
              "             param_grid={'colsample_bytree': [0.5, 0.6, 0.7, 0.8, 0.9, 1],\n",
              "                         'subsample': [0.5, 0.6, 0.7, 0.8, 0.9, 1]},\n",
              "             scoring='roc_auc')"
            ]
          },
          "metadata": {},
          "execution_count": 47
        }
      ],
      "source": [
        "param_test4 = {\n",
        "    'subsample':[0.5, 0.6, 0.7, 0.8, 0.9, 1],\n",
        "    'colsample_bytree':[0.5, 0.6, 0.7, 0.8, 0.9, 1]\n",
        "}\n",
        "gsearch3b = GridSearchCV(estimator = XGBClassifier( learning_rate=0.1, n_estimators=150, max_depth=3, min_child_weight=4, gamma=0.4,\n",
        "                                        objective= 'binary:logistic', nthread=4, scale_pos_weight=1,seed=27), \n",
        "                       param_grid = param_test4, scoring='roc_auc',n_jobs=4, cv=5)\n",
        "gsearch3b.fit(X_train[predictors],X_train[target])"
      ]
    },
    {
      "cell_type": "code",
      "source": [
        "gsearch3b.best_params_, gsearch3b.best_score_"
      ],
      "metadata": {
        "id": "wyL5sbo2tTqa",
        "outputId": "779edad4-08a9-4a18-cda6-75cad2342213",
        "colab": {
          "base_uri": "https://localhost:8080/"
        }
      },
      "execution_count": 48,
      "outputs": [
        {
          "output_type": "execute_result",
          "data": {
            "text/plain": [
              "({'colsample_bytree': 0.9, 'subsample': 1}, 0.8275244766379402)"
            ]
          },
          "metadata": {},
          "execution_count": 48
        }
      ]
    },
    {
      "cell_type": "markdown",
      "metadata": {
        "id": "XlHpQGZQXVIj"
      },
      "source": [
        "Подберите параметр регуляризации reg_alpha. Попробуйте [1e-5, 1e-2, 0.1, 1, 100]"
      ]
    },
    {
      "cell_type": "code",
      "execution_count": 49,
      "metadata": {
        "id": "LrexpvH_XVIj",
        "outputId": "12f424d0-46cb-497f-db1b-a8b7a090b9eb",
        "colab": {
          "base_uri": "https://localhost:8080/"
        }
      },
      "outputs": [
        {
          "output_type": "execute_result",
          "data": {
            "text/plain": [
              "GridSearchCV(cv=5,\n",
              "             estimator=XGBClassifier(base_score=None, booster=None,\n",
              "                                     callbacks=None, colsample_bylevel=None,\n",
              "                                     colsample_bynode=None,\n",
              "                                     colsample_bytree=0.9,\n",
              "                                     early_stopping_rounds=None,\n",
              "                                     enable_categorical=False, eval_metric=None,\n",
              "                                     gamma=0.4, gpu_id=None, grow_policy=None,\n",
              "                                     importance_type=None,\n",
              "                                     interaction_constraints=None,\n",
              "                                     learning_rate=0.1, max_bin=None,\n",
              "                                     max_cat_to_onehot=None,\n",
              "                                     max_delta_step=None, max_depth=3,\n",
              "                                     max_leaves=None, min_child_weight=4,\n",
              "                                     missing=nan, monotone_constraints=None,\n",
              "                                     n_estimators=150, n_jobs=None, nthread=4,\n",
              "                                     num_parallel_tree=None, predictor=None,\n",
              "                                     random_state=None, reg_alpha=None, ...),\n",
              "             n_jobs=4,\n",
              "             param_grid={'alpha': [1e-05, 0.0001, 0.01, 0.1, 1, 100],\n",
              "                         'lambda': [0.5, 1, 2]},\n",
              "             scoring='roc_auc')"
            ]
          },
          "metadata": {},
          "execution_count": 49
        }
      ],
      "source": [
        "param_test5 = {\n",
        "    'alpha':[1e-5, 1e-4, 1e-2, 0.1, 1, 100],\n",
        "    'lambda':[0.5, 1, 2]\n",
        "}\n",
        "gsearch5b = GridSearchCV(estimator = XGBClassifier(learning_rate=0.1, n_estimators=150, max_depth=3, min_child_weight=4, gamma=0.4,\n",
        "                                                   colsample_bytree=0.9, subsample=1, objective= 'binary:logistic', nthread=4, scale_pos_weight=1,seed=27), \n",
        "                                                   param_grid = param_test5, scoring='roc_auc',n_jobs=4, cv=5)\n",
        "gsearch5b.fit(X_train[predictors],X_train[target])"
      ]
    },
    {
      "cell_type": "code",
      "source": [
        "gsearch5b.best_params_, gsearch5b.best_score_"
      ],
      "metadata": {
        "id": "CaOUysg-t2D-",
        "outputId": "dc205514-ba2c-4603-ae18-26204d5ed390",
        "colab": {
          "base_uri": "https://localhost:8080/"
        }
      },
      "execution_count": 50,
      "outputs": [
        {
          "output_type": "execute_result",
          "data": {
            "text/plain": [
              "({'alpha': 1e-05, 'lambda': 1}, 0.8278823739793223)"
            ]
          },
          "metadata": {},
          "execution_count": 50
        }
      ]
    },
    {
      "cell_type": "markdown",
      "metadata": {
        "id": "pq1hV1RgXVIj"
      },
      "source": [
        "Запустите обучение и предсказание на найденных параметрах и посмотрите на качество."
      ]
    },
    {
      "cell_type": "code",
      "execution_count": 51,
      "metadata": {
        "id": "qWKfzzp7XVIj",
        "outputId": "4e6f0b6a-4880-45c3-b9b1-9a9c60b4c1c9",
        "colab": {
          "base_uri": "https://localhost:8080/",
          "height": 580
        }
      },
      "outputs": [
        {
          "output_type": "stream",
          "name": "stderr",
          "text": [
            "C:\\Program Files\\Python310\\lib\\site-packages\\xgboost\\sklearn.py:793: UserWarning: `eval_metric` in `fit` method is deprecated for better compatibility with scikit-learn, use `eval_metric` in constructor or`set_params` instead.\n",
            "  warnings.warn(\n"
          ]
        },
        {
          "output_type": "stream",
          "name": "stdout",
          "text": [
            "\n",
            "Model Report\n",
            "Accuracy : 0.985\n",
            "AUC Score (Train): 0.884875\n",
            "AUC Score (Test): 0.829077\n"
          ]
        },
        {
          "output_type": "display_data",
          "data": {
            "text/plain": [
              "<Figure size 432x288 with 1 Axes>"
            ],
            "image/png": "[encoded data removed]"
          },
          "metadata": {
            "needs_background": "light"
          }
        }
      ],
      "source": [
        "xgb3 = XGBClassifier(\n",
        "        learning_rate=0.1,     \n",
        "        n_estimators=150,   \n",
        "        max_depth=3,\n",
        "        min_child_weight=4,\n",
        "        gamma=0.4,\n",
        "        subsample=1,\n",
        "        colsample_bytree=0.9,\n",
        "        reg_alpha=1e-05,\n",
        "        objective= 'binary:logistic',\n",
        "        nthread=4,\n",
        "        scale_pos_weight=1,\n",
        "        seed=27)\n",
        "modelfit(xgb3, X_train, X_test, predictors)"
      ]
    },
    {
      "cell_type": "markdown",
      "metadata": {
        "id": "BPFIAzCkXVIj"
      },
      "source": [
        "Уменьшите learning_rate до 0.01 и пропорционально увеличьте число деревьев. Все подобранные параметры остаются такими же. Обучите модель и сделайте предсказание. Посмотрите на качество."
      ]
    },
    {
      "cell_type": "code",
      "execution_count": 55,
      "metadata": {
        "id": "3zxPJk-rXVIj",
        "outputId": "2f4489a0-ac25-4d85-b434-01173e51861f",
        "colab": {
          "base_uri": "https://localhost:8080/",
          "height": 580
        }
      },
      "outputs": [
        {
          "output_type": "stream",
          "name": "stderr",
          "text": [
            "C:\\Program Files\\Python310\\lib\\site-packages\\xgboost\\sklearn.py:793: UserWarning: `eval_metric` in `fit` method is deprecated for better compatibility with scikit-learn, use `eval_metric` in constructor or`set_params` instead.\n",
            "  warnings.warn(\n"
          ]
        },
        {
          "output_type": "stream",
          "name": "stdout",
          "text": [
            "\n",
            "Model Report\n",
            "Accuracy : 0.9851\n",
            "AUC Score (Train): 0.886780\n",
            "AUC Score (Test): 0.832144\n"
          ]
        },
        {
          "output_type": "display_data",
          "data": {
            "text/plain": [
              "<Figure size 432x288 with 1 Axes>"
            ],
            "image/png": "[encoded data removed]"
          },
          "metadata": {
            "needs_background": "light"
          }
        }
      ],
      "source": [
        "#Your code here\n",
        "xgb3 = XGBClassifier(\n",
        "        learning_rate=0.005,\n",
        "        n_estimators=15000,   \n",
        "        #max_depth=3,\n",
        "        #min_child_weight=4,\n",
        "        #gamma=0.4,\n",
        "        #subsample=1,\n",
        "        #colsample_bytree=0.9,\n",
        "        #reg_alpha=1e-05,\n",
        "        objective= 'binary:logistic',\n",
        "        nthread=4,\n",
        "        scale_pos_weight=1,\n",
        "        seed=27)\n",
        "modelfit(xgb3, X_train, X_test, predictors)"
      ]
    },
    {
      "cell_type": "markdown",
      "metadata": {
        "id": "3MJDnFmtXVIj"
      },
      "source": [
        "## 2. CatBoost\n",
        "\n",
        "Оригинальный ноутбук здесь: https://github.com/catboost/tutorials/blob/master/classification/classification_tutorial.ipynb\n",
        "\n",
        "Особенности катбуста:\n",
        "\n",
        "* используются симметричные деревья решений\n",
        "\n",
        "* для кодирования категориальных признаков используется большой набор методов\n",
        "\n",
        "* динамический бустинг \n",
        "\n",
        "Благодаря использованию симметричных деревьев и динамическому бустингу катбуст гораздо более устойчив к переобучению, чем другие имплементации градиентного бустинга. Поэтому он показывает хорошее качество даже при дефолтных параметрах.\n",
        "\n",
        "Посмотреть видео про катбуст: https://yandex.ru/video/preview/?filmId=10919886479285152550&from=tabbar&text=catboost+анна+вероника"
      ]
    },
    {
      "cell_type": "markdown",
      "metadata": {
        "id": "C_h5Wx8lXVIk"
      },
      "source": [
        "Устанавливаем библиотеки"
      ]
    },
    {
      "cell_type": "code",
      "execution_count": null,
      "metadata": {
        "id": "HNZdZ3NNXVIl"
      },
      "outputs": [],
      "source": [
        "#!pip install --user --upgrade catboost\n",
        "#!pip install --user --upgrade ipywidgets\n",
        "#!pip install shap\n",
        "#!pip install sklearn\n",
        "#!pip install --upgrade numpy\n",
        "#!jupyter nbextension enable --py widgetsnbextension\n",
        "\n",
        "import catboost"
      ]
    },
    {
      "cell_type": "code",
      "execution_count": null,
      "metadata": {
        "id": "_BGy6t15XVIm"
      },
      "outputs": [],
      "source": [
        "from matplotlib import pylab as plt\n",
        "%pylab inline"
      ]
    },
    {
      "cell_type": "code",
      "execution_count": null,
      "metadata": {
        "id": "ykgaIehRXVIm"
      },
      "outputs": [],
      "source": [
        "np.set_printoptions(precision=4)\n",
        "import catboost\n",
        "from catboost import *\n",
        "from catboost import datasets"
      ]
    },
    {
      "cell_type": "markdown",
      "metadata": {
        "id": "qHFOMbU0XVIm"
      },
      "source": [
        "Считываем данные. Данные содержат только категориальные признаки, причем с большим количеством категорий. Признаки - закодированные характеристики сотрудника и некоторого ресурса, целевая переменная - есть ли у сотрудника доступ к ресурсу."
      ]
    },
    {
      "cell_type": "code",
      "execution_count": null,
      "metadata": {
        "id": "4P31ZrL5XVIm"
      },
      "outputs": [],
      "source": [
        "(train_df, test_df) = catboost.datasets.amazon()"
      ]
    },
    {
      "cell_type": "code",
      "execution_count": null,
      "metadata": {
        "id": "LJpWRhOSXVIm"
      },
      "outputs": [],
      "source": [
        "train_df.head()"
      ]
    },
    {
      "cell_type": "markdown",
      "metadata": {
        "id": "n_y0ucmsXVIn"
      },
      "source": [
        "Готовим данные"
      ]
    },
    {
      "cell_type": "code",
      "execution_count": null,
      "metadata": {
        "id": "dmehiKM2XVIn"
      },
      "outputs": [],
      "source": [
        "y = train_df.ACTION\n",
        "X = train_df.drop('ACTION', axis=1)"
      ]
    },
    {
      "cell_type": "markdown",
      "metadata": {
        "id": "7HlSLjZTXVIn"
      },
      "source": [
        "Создаем список категориальных фичей"
      ]
    },
    {
      "cell_type": "code",
      "execution_count": null,
      "metadata": {
        "id": "yQ5yl5cqXVIn"
      },
      "outputs": [],
      "source": [
        "cat_features = list(range(0, X.shape[1]))\n",
        "print(cat_features)"
      ]
    },
    {
      "cell_type": "markdown",
      "metadata": {
        "id": "t1KQBpabXVIn"
      },
      "source": [
        "Смотрим на соотношение классов"
      ]
    },
    {
      "cell_type": "code",
      "execution_count": null,
      "metadata": {
        "id": "g8xRJYePXVIn"
      },
      "outputs": [],
      "source": [
        "print('Labels: {}'.format(set(y)))\n",
        "print('Zero count = {}, One count = {}'.format(len(y) - sum(y), sum(y)))"
      ]
    },
    {
      "cell_type": "markdown",
      "metadata": {
        "id": "Ef2iferFXVIo"
      },
      "source": [
        "Способы создать Pool - объект, содержащий матрицу объект-признак X, вектор ответов, список номеров колонок с категориальными признаками."
      ]
    },
    {
      "cell_type": "code",
      "execution_count": null,
      "metadata": {
        "id": "Xa6Kji9qXVIo"
      },
      "outputs": [],
      "source": [
        "pool1 = Pool(data=X, label=y, cat_features=cat_features)\n",
        "\n",
        "pool2 = Pool(data=X, cat_features=cat_features)\n",
        "\n",
        "# Fastest way to create a Pool is to create it from numpy matrix.\n",
        "# This way should be used if you want fast predictions\n",
        "# or fastest way to load the data in python.\n",
        "\n",
        "X_prepared = X.values.astype(str).astype(object)\n",
        "# For FeaturesData class categorial features must have type str\n",
        "\n",
        "pool3 = Pool(\n",
        "    data=FeaturesData(\n",
        "        cat_feature_data=X_prepared,\n",
        "        cat_feature_names=list(X)\n",
        "    ),\n",
        "    label=y.values\n",
        ")\n",
        "\n",
        "print('Dataset shape')\n",
        "print('dataset 1:' + str(pool1.shape) +\n",
        "      '\\ndataset 2:' + str(pool2.shape) +\n",
        "      '\\ndataset 3: ' + str(pool3.shape))\n",
        "\n",
        "print('\\n')\n",
        "print('Column names')\n",
        "print('dataset 1:')\n",
        "print(pool1.get_feature_names()) \n",
        "print('\\ndataset 2:')\n",
        "print(pool2.get_feature_names())\n",
        "print('\\ndataset 3:')\n",
        "print(pool3.get_feature_names())"
      ]
    },
    {
      "cell_type": "markdown",
      "metadata": {
        "id": "VdY3EjitXVIo"
      },
      "source": [
        "Разбиваем данные на train и validation"
      ]
    },
    {
      "cell_type": "code",
      "execution_count": null,
      "metadata": {
        "id": "ciaD-EoFXVIo"
      },
      "outputs": [],
      "source": [
        "from sklearn.model_selection import train_test_split\n",
        "X_train, X_validation, y_train, y_validation = train_test_split(X, y, train_size=0.8, random_state=42)"
      ]
    },
    {
      "cell_type": "markdown",
      "metadata": {
        "id": "3DE1yfVLXVIp"
      },
      "source": [
        "Выбираем функцию потерь"
      ]
    },
    {
      "cell_type": "markdown",
      "metadata": {
        "id": "T3A0jRz3XVIp"
      },
      "source": [
        "Для бинарной классификации можем использовать:\n",
        "\n",
        "* `Logloss`\n",
        "\n",
        "* `CrossEntropy`"
      ]
    },
    {
      "cell_type": "code",
      "execution_count": null,
      "metadata": {
        "id": "upNAn6kkXVIp"
      },
      "outputs": [],
      "source": [
        "from catboost import CatBoostClassifier\n",
        "model = CatBoostClassifier(\n",
        "    iterations=5,\n",
        "    learning_rate=0.1,\n",
        "    # loss_function='CrossEntropy'\n",
        ")\n",
        "model.fit(\n",
        "    X_train, y_train,\n",
        "    cat_features=cat_features,\n",
        "    eval_set=(X_validation, y_validation),\n",
        "    verbose=False\n",
        ")\n",
        "print('Model is fitted: ' + str(model.is_fitted()))\n",
        "print('Model params:')\n",
        "print(model.get_params())"
      ]
    },
    {
      "cell_type": "markdown",
      "metadata": {
        "id": "Gih4o4VdXVIp"
      },
      "source": [
        "Печать результатов"
      ]
    },
    {
      "cell_type": "code",
      "execution_count": null,
      "metadata": {
        "scrolled": false,
        "id": "H6eEuKI0XVIp"
      },
      "outputs": [],
      "source": [
        "from catboost import CatBoostClassifier\n",
        "model = CatBoostClassifier(\n",
        "    iterations=15,\n",
        "#     verbose=5,\n",
        ")\n",
        "model.fit(\n",
        "    X_train, y_train,\n",
        "    cat_features=cat_features,\n",
        "    eval_set=(X_validation, y_validation),\n",
        ")"
      ]
    },
    {
      "cell_type": "markdown",
      "metadata": {
        "id": "kCkznskbXVIp"
      },
      "source": [
        "Визуализация метрик"
      ]
    },
    {
      "cell_type": "code",
      "execution_count": null,
      "metadata": {
        "id": "9MgJUmuOXVIp"
      },
      "outputs": [],
      "source": [
        "from catboost import CatBoostClassifier\n",
        "model = CatBoostClassifier(\n",
        "    iterations=50,\n",
        "    random_seed=63,\n",
        "    learning_rate=0.5,\n",
        "    custom_loss=['AUC', 'Accuracy']\n",
        ")\n",
        "model.fit(\n",
        "    X_train, y_train,\n",
        "    cat_features=cat_features,\n",
        "    eval_set=(X_validation, y_validation),\n",
        "    verbose=False,\n",
        "    plot=True\n",
        ")"
      ]
    },
    {
      "cell_type": "markdown",
      "metadata": {
        "id": "cUDBpyEVXVIq"
      },
      "source": [
        "Сравнение моделей"
      ]
    },
    {
      "cell_type": "code",
      "execution_count": null,
      "metadata": {
        "id": "brGVV5_pXVIq"
      },
      "outputs": [],
      "source": [
        "model1 = CatBoostClassifier(\n",
        "    learning_rate=0.7,\n",
        "    iterations=100,\n",
        "    random_seed=0,\n",
        "    train_dir='learing_rate_0.7'\n",
        ")\n",
        "\n",
        "model2 = CatBoostClassifier(\n",
        "    learning_rate=0.01,\n",
        "    iterations=100,\n",
        "    random_seed=0,\n",
        "    train_dir='learing_rate_0.01'\n",
        ")\n",
        "model1.fit(\n",
        "    X_train, y_train,\n",
        "    eval_set=(X_validation, y_validation),\n",
        "    cat_features=cat_features,\n",
        "    verbose=False\n",
        ")\n",
        "model2.fit(\n",
        "    X_train, y_train,\n",
        "    eval_set=(X_validation, y_validation),\n",
        "    cat_features=cat_features,\n",
        "    verbose=False\n",
        ")"
      ]
    },
    {
      "cell_type": "code",
      "execution_count": null,
      "metadata": {
        "id": "jjT6LfK2XVIq"
      },
      "outputs": [],
      "source": [
        "from catboost import MetricVisualizer\n",
        "MetricVisualizer(['learing_rate_0.01', 'learing_rate_0.7']).start()"
      ]
    },
    {
      "cell_type": "markdown",
      "metadata": {
        "id": "F3irpDWlXVIq"
      },
      "source": [
        "Оптимальное количество деревьев"
      ]
    },
    {
      "cell_type": "code",
      "execution_count": null,
      "metadata": {
        "id": "GKtmzUzgXVIq"
      },
      "outputs": [],
      "source": [
        "from catboost import CatBoostClassifier\n",
        "model = CatBoostClassifier(\n",
        "    iterations=100,\n",
        "    random_seed=63,\n",
        "    learning_rate=0.5,\n",
        "#     use_best_model=False\n",
        ")\n",
        "model.fit(\n",
        "    X_train, y_train,\n",
        "    cat_features=cat_features,\n",
        "    eval_set=(X_validation, y_validation),\n",
        "    verbose=False,\n",
        "    plot=True\n",
        ")"
      ]
    },
    {
      "cell_type": "code",
      "execution_count": null,
      "metadata": {
        "id": "zVuUE4xmXVIq"
      },
      "outputs": [],
      "source": [
        "print('Tree count: ' + str(model.tree_count_))"
      ]
    },
    {
      "cell_type": "markdown",
      "metadata": {
        "id": "BcPLVvHQXVIq"
      },
      "source": [
        "Кросс-валидация"
      ]
    },
    {
      "cell_type": "code",
      "execution_count": null,
      "metadata": {
        "id": "wumHn9LdXVIq"
      },
      "outputs": [],
      "source": [
        "from catboost import cv\n",
        "\n",
        "params = {}\n",
        "params['loss_function'] = 'Logloss'\n",
        "params['iterations'] = 80\n",
        "params['custom_loss'] = 'AUC'\n",
        "params['random_seed'] = 63\n",
        "params['learning_rate'] = 0.5\n",
        "\n",
        "cv_data = cv(\n",
        "    params = params,\n",
        "    pool = Pool(X, label=y, cat_features=cat_features),\n",
        "    fold_count=5,\n",
        "    shuffle=True,\n",
        "    partition_random_seed=0,\n",
        "    plot=True,\n",
        "    stratified=False,\n",
        "    verbose=False\n",
        ")"
      ]
    },
    {
      "cell_type": "code",
      "execution_count": null,
      "metadata": {
        "id": "rS1lfSrkXVIr"
      },
      "outputs": [],
      "source": [
        "cv_data.head()"
      ]
    },
    {
      "cell_type": "code",
      "execution_count": null,
      "metadata": {
        "id": "RdNI0mDMXVIr"
      },
      "outputs": [],
      "source": [
        "best_value = np.min(cv_data['test-Logloss-mean'])\n",
        "best_iter = np.argmin(cv_data['test-Logloss-mean'])\n",
        "\n",
        "print('Best validation Logloss score, not stratified: {:.4f}±{:.4f} on step {}'.format(\n",
        "    best_value,\n",
        "    cv_data['test-Logloss-std'][best_iter],\n",
        "    best_iter)\n",
        ")"
      ]
    },
    {
      "cell_type": "markdown",
      "metadata": {
        "id": "dIfaxRccXVIr"
      },
      "source": [
        "Детектор переобучения"
      ]
    },
    {
      "cell_type": "code",
      "execution_count": null,
      "metadata": {
        "id": "qGbcohv-XVIr"
      },
      "outputs": [],
      "source": [
        "model_with_early_stop = CatBoostClassifier(\n",
        "    iterations=200,\n",
        "    random_seed=63,\n",
        "    learning_rate=0.5,\n",
        "    early_stopping_rounds=20\n",
        ")\n",
        "model_with_early_stop.fit(\n",
        "    X_train, y_train,\n",
        "    cat_features=cat_features,\n",
        "    eval_set=(X_validation, y_validation),\n",
        "    verbose=False,\n",
        "    plot=True\n",
        ")"
      ]
    },
    {
      "cell_type": "code",
      "execution_count": null,
      "metadata": {
        "id": "lPLAzqYhXVIr"
      },
      "outputs": [],
      "source": [
        "print(model_with_early_stop.tree_count_)"
      ]
    },
    {
      "cell_type": "code",
      "execution_count": null,
      "metadata": {
        "id": "58lswUFAXVIr"
      },
      "outputs": [],
      "source": [
        "model_with_early_stop = CatBoostClassifier(\n",
        "    eval_metric='AUC',\n",
        "    iterations=200,\n",
        "    random_seed=63,\n",
        "    learning_rate=0.5,\n",
        "    early_stopping_rounds=20\n",
        ")\n",
        "model_with_early_stop.fit(\n",
        "    X_train, y_train,\n",
        "    cat_features=cat_features,\n",
        "    eval_set=(X_validation, y_validation),\n",
        "    verbose=False,\n",
        "    plot=True\n",
        ")"
      ]
    },
    {
      "cell_type": "code",
      "execution_count": null,
      "metadata": {
        "id": "1x8uM2s4XVIr"
      },
      "outputs": [],
      "source": [
        "print(model_with_early_stop.tree_count_)"
      ]
    },
    {
      "cell_type": "markdown",
      "metadata": {
        "id": "5euxIn2KXVIs"
      },
      "source": [
        "Вычисление метрик качества и выбор порога принятия решения"
      ]
    },
    {
      "cell_type": "code",
      "execution_count": null,
      "metadata": {
        "id": "9l-0VYjlXVIs"
      },
      "outputs": [],
      "source": [
        "model = CatBoostClassifier(\n",
        "    random_seed=63,\n",
        "    iterations=200,\n",
        "    learning_rate=0.03,\n",
        ")\n",
        "model.fit(\n",
        "    X_train, y_train,\n",
        "    cat_features=cat_features,\n",
        "    verbose=False,\n",
        "    plot=True\n",
        ")"
      ]
    },
    {
      "cell_type": "markdown",
      "metadata": {
        "id": "hL8q6rErXVIs"
      },
      "source": [
        "![](https://habrastorage.org/webt/y4/1q/yq/y41qyqfm9mcerp2ziys48phpjia.png)"
      ]
    },
    {
      "cell_type": "code",
      "execution_count": null,
      "metadata": {
        "id": "mn9qoTRGXVIs"
      },
      "outputs": [],
      "source": [
        "from catboost.utils import get_roc_curve\n",
        "import sklearn\n",
        "from sklearn import metrics\n",
        "\n",
        "eval_pool = Pool(X_validation, y_validation, cat_features=cat_features)\n",
        "curve = get_roc_curve(model, eval_pool)\n",
        "(fpr, tpr, thresholds) = curve\n",
        "roc_auc = sklearn.metrics.auc(fpr, tpr)"
      ]
    },
    {
      "cell_type": "code",
      "execution_count": null,
      "metadata": {
        "id": "CSymoogHXVIs"
      },
      "outputs": [],
      "source": [
        "plt.figure(figsize=(16, 8))\n",
        "lw = 2\n",
        "\n",
        "plt.plot(fpr, tpr, color='darkorange',\n",
        "         lw=lw, label='ROC curve (area = %0.2f)' % roc_auc, alpha=0.5)\n",
        "\n",
        "plt.plot([0, 1], [0, 1], color='navy', lw=lw, linestyle='--', alpha=0.5)\n",
        "\n",
        "plt.xlim([0.0, 1.0])\n",
        "plt.ylim([0.0, 1.05])\n",
        "plt.xticks(fontsize=16)\n",
        "plt.yticks(fontsize=16)\n",
        "plt.grid(True)\n",
        "plt.xlabel('False Positive Rate', fontsize=16)\n",
        "plt.ylabel('True Positive Rate', fontsize=16)\n",
        "plt.title('Receiver operating characteristic', fontsize=20)\n",
        "plt.legend(loc=\"lower right\", fontsize=16)\n",
        "plt.show()"
      ]
    },
    {
      "cell_type": "code",
      "execution_count": null,
      "metadata": {
        "id": "iV6xK3lGXVIs"
      },
      "outputs": [],
      "source": [
        "from catboost.utils import get_fpr_curve\n",
        "from catboost.utils import get_fnr_curve\n",
        "\n",
        "(thresholds, fpr) = get_fpr_curve(curve=curve)\n",
        "(thresholds, fnr) = get_fnr_curve(curve=curve)"
      ]
    },
    {
      "cell_type": "code",
      "execution_count": null,
      "metadata": {
        "id": "88bUrh9XXVIs"
      },
      "outputs": [],
      "source": [
        "plt.figure(figsize=(16, 8))\n",
        "lw = 2\n",
        "\n",
        "plt.plot(thresholds, fpr, color='blue', lw=lw, label='FPR', alpha=0.5)\n",
        "plt.plot(thresholds, fnr, color='green', lw=lw, label='FNR', alpha=0.5)\n",
        "\n",
        "plt.xlim([0.0, 1.0])\n",
        "plt.ylim([0.0, 1.05])\n",
        "plt.xticks(fontsize=16)\n",
        "plt.yticks(fontsize=16)\n",
        "plt.grid(True)\n",
        "plt.xlabel('Threshold', fontsize=16)\n",
        "plt.ylabel('Error Rate', fontsize=16)\n",
        "plt.title('FPR-FNR curves', fontsize=20)\n",
        "plt.legend(loc=\"lower left\", fontsize=16)\n",
        "plt.show()"
      ]
    },
    {
      "cell_type": "code",
      "execution_count": null,
      "metadata": {
        "id": "y1g3-_JbXVIs"
      },
      "outputs": [],
      "source": [
        "from catboost.utils import select_threshold\n",
        "\n",
        "print(select_threshold(model=model, data=eval_pool, FNR=0.01))\n",
        "print(select_threshold(model=model, data=eval_pool, FPR=0.01))"
      ]
    },
    {
      "cell_type": "markdown",
      "metadata": {
        "id": "MXeoNErDXVIt"
      },
      "source": [
        "Получение предсказаний"
      ]
    },
    {
      "cell_type": "code",
      "execution_count": null,
      "metadata": {
        "id": "DdJAshWSXVIt"
      },
      "outputs": [],
      "source": [
        "print(model.predict_proba(data=X_validation))"
      ]
    },
    {
      "cell_type": "code",
      "execution_count": null,
      "metadata": {
        "id": "N_Rjg3UFXVIt"
      },
      "outputs": [],
      "source": [
        "print(model.predict(data=X_validation))"
      ]
    },
    {
      "cell_type": "markdown",
      "metadata": {
        "id": "pv8T8CIuXVIt"
      },
      "source": [
        "Последовательные предсказания"
      ]
    },
    {
      "cell_type": "code",
      "execution_count": null,
      "metadata": {
        "id": "EIVNDAuyXVIt"
      },
      "outputs": [],
      "source": [
        "predictions_gen = model.staged_predict_proba(\n",
        "    data=X_validation,\n",
        "    ntree_start=0, \n",
        "    ntree_end=5, \n",
        "    eval_period=1\n",
        ")\n",
        "try:\n",
        "    for iteration, predictions in enumerate(predictions_gen):\n",
        "        print('Iteration ' + str(iteration) + ', predictions:')\n",
        "        print(predictions)\n",
        "except Exception:\n",
        "    pass"
      ]
    },
    {
      "cell_type": "markdown",
      "metadata": {
        "id": "dXLoaQ7LXVIt"
      },
      "source": [
        "Важность признаков"
      ]
    },
    {
      "cell_type": "code",
      "execution_count": null,
      "metadata": {
        "id": "8I3cziDQXVIt"
      },
      "outputs": [],
      "source": [
        "model.get_feature_importance(prettified=True)"
      ]
    },
    {
      "cell_type": "markdown",
      "metadata": {
        "id": "30-KUYNsXVIt"
      },
      "source": [
        "### Shap values \n",
        "\n",
        "Классические способы измерения важности признаков обладают существенным недостатком: непонятно, как именно каждый признак влияет на предсказание модели. Shap values (значения Шэпли) - способ измерения важности признаков, исправляющий этот недостаток.\n",
        "\n",
        "Подробнее читайте тут: https://habr.com/ru/post/428213/"
      ]
    },
    {
      "cell_type": "code",
      "execution_count": null,
      "metadata": {
        "id": "-J5ww1hSXVIt"
      },
      "outputs": [],
      "source": [
        "import shap\n",
        "\n",
        "shap_values = model.get_feature_importance(pool1, type='ShapValues')\n",
        "\n",
        "expected_value = shap_values[0,-1]\n",
        "shap_values = shap_values[:,:-1]\n",
        "\n",
        "print(shap_values.shape)"
      ]
    },
    {
      "cell_type": "code",
      "execution_count": null,
      "metadata": {
        "id": "ZuZb2riRXVIu"
      },
      "outputs": [],
      "source": [
        "shap.summary_plot(shap_values, X)"
      ]
    },
    {
      "cell_type": "markdown",
      "metadata": {
        "id": "0MPsxqmxXVIu"
      },
      "source": [
        "Shap-values для конкретного объекта."
      ]
    },
    {
      "cell_type": "code",
      "execution_count": null,
      "metadata": {
        "id": "Zu3S4t03XVIu"
      },
      "outputs": [],
      "source": [
        "shap.initjs()\n",
        "shap.force_plot(expected_value, shap_values[3,:], X.iloc[3,:])"
      ]
    },
    {
      "cell_type": "markdown",
      "metadata": {
        "id": "5v2NthwkXVIu"
      },
      "source": [
        "Сохранение модели"
      ]
    },
    {
      "cell_type": "code",
      "execution_count": null,
      "metadata": {
        "id": "TqnnCmZiXVIu"
      },
      "outputs": [],
      "source": [
        "my_best_model = CatBoostClassifier(iterations=10)\n",
        "my_best_model.fit(\n",
        "    X_train, y_train,\n",
        "    eval_set=(X_validation, y_validation),\n",
        "    cat_features=cat_features,\n",
        "    verbose=False\n",
        ")\n",
        "my_best_model.save_model('catboost_model.bin')\n",
        "my_best_model.save_model('catboost_model.json', format='json')"
      ]
    },
    {
      "cell_type": "code",
      "execution_count": null,
      "metadata": {
        "id": "GR9eiQ9wXVIu"
      },
      "outputs": [],
      "source": [
        "my_best_model.load_model('catboost_model.bin')\n",
        "print(my_best_model.get_params())\n",
        "print(my_best_model.random_seed_)"
      ]
    },
    {
      "cell_type": "markdown",
      "metadata": {
        "id": "otLYi1F4XVIu"
      },
      "source": [
        "Подбор гиперпараметров"
      ]
    },
    {
      "cell_type": "code",
      "execution_count": null,
      "metadata": {
        "scrolled": true,
        "id": "CYO-vH9zXVIu"
      },
      "outputs": [],
      "source": [
        "cat = CatBoostClassifier(n_estimators=50)\n",
        "\n",
        "grid = {'learning_rate': [0.03, 0.1],\n",
        "        'depth': [4, 6, 10]}\n",
        "#        'l2_leaf_reg': [1, 3, 5, 7, 9]}\n",
        "\n",
        "grid_search_result = cat.grid_search(grid, X=X_train, y=y_train, verbose=False, plot=True)"
      ]
    },
    {
      "cell_type": "code",
      "execution_count": null,
      "metadata": {
        "id": "S_Lao_HrXVIu"
      },
      "outputs": [],
      "source": [
        "grid_search_result['params']"
      ]
    },
    {
      "cell_type": "markdown",
      "metadata": {
        "id": "KTGDs-RfXVIv"
      },
      "source": [
        "Визуализация деревьев"
      ]
    },
    {
      "cell_type": "code",
      "execution_count": null,
      "metadata": {
        "id": "tVTab_4dXVIv"
      },
      "outputs": [],
      "source": [
        "cat.plot_tree(tree_idx=0)"
      ]
    },
    {
      "cell_type": "markdown",
      "metadata": {
        "id": "EbgvFO2iXVIv"
      },
      "source": [
        "Хорошее описание гиперпараметров катбуста: https://habr.com/ru/company/otus/blog/527554/"
      ]
    },
    {
      "cell_type": "markdown",
      "metadata": {
        "id": "ILu2JDnQXVIv"
      },
      "source": [
        "## LightGBM\n",
        "\n",
        "Особенности LightGBM:\n",
        "\n",
        "* полиственное (leaf-wise), а не поуровневое (depth-wise) построение деревьев\n",
        "\n",
        "* быстрое построение дерева, позволяющее не кодировать категориальные признаки, а использовать исходные категории для получения предикатов\n",
        "\n",
        "* ускорение построения деревьев за счёт бинаризации признаков (объединение значений признака в группы)\n",
        "\n",
        "Почитать подробнее можно тут: https://medium.com/@pushkarmandot/https-medium-com-pushkarmandot-what-is-lightgbm-how-to-implement-it-how-to-fine-tune-the-parameters-60347819b7fc"
      ]
    },
    {
      "cell_type": "code",
      "execution_count": null,
      "metadata": {
        "id": "buaa_yyXXVIv"
      },
      "outputs": [],
      "source": [
        "import lightgbm as lgb\n",
        "\n",
        "from sklearn.metrics import mean_squared_error\n",
        "from sklearn.model_selection import GridSearchCV\n",
        "\n",
        "from sklearn.datasets import load_boston\n",
        "from sklearn.model_selection import train_test_split\n",
        "\n",
        "data = load_boston()\n",
        "X_full = data.data\n",
        "y_full = data.target\n",
        "\n",
        "X_train, X_test, y_train, y_test = train_test_split(X_full, y_full, test_size=100, \n",
        "                                        random_state=241)"
      ]
    },
    {
      "cell_type": "markdown",
      "metadata": {
        "id": "85N3BAE4XVIv"
      },
      "source": [
        "Обучение"
      ]
    },
    {
      "cell_type": "code",
      "execution_count": null,
      "metadata": {
        "id": "17NZJSCPXVIv"
      },
      "outputs": [],
      "source": [
        "print('Starting training...')\n",
        "# train\n",
        "gbm = lgb.LGBMRegressor(num_leaves=31,\n",
        "                        learning_rate=0.05,\n",
        "                        n_estimators=20)\n",
        "gbm.fit(X_train, y_train,\n",
        "        eval_set=[(X_test, y_test)],\n",
        "        eval_metric='l1',\n",
        "        early_stopping_rounds=5)"
      ]
    },
    {
      "cell_type": "markdown",
      "metadata": {
        "id": "Vp6A8lsdXVIv"
      },
      "source": [
        "Предсказание и оценка качества"
      ]
    },
    {
      "cell_type": "code",
      "execution_count": null,
      "metadata": {
        "id": "yHYudXg1XVIv"
      },
      "outputs": [],
      "source": [
        "print('Starting predicting...')\n",
        "\n",
        "y_pred = gbm.predict(X_test, num_iteration=gbm.best_iteration_)\n",
        "\n",
        "print('The rmse of prediction is:', mean_squared_error(y_test, y_pred) ** 0.5)\n",
        "\n",
        "# feature importances\n",
        "print('Feature importances:', list(gbm.feature_importances_))"
      ]
    },
    {
      "cell_type": "markdown",
      "metadata": {
        "id": "UfChc3jsXVIw"
      },
      "source": [
        "Можно задать любую (придумать свою, например) метрику качества"
      ]
    },
    {
      "cell_type": "code",
      "execution_count": null,
      "metadata": {
        "id": "0LrTMOR8XVIw"
      },
      "outputs": [],
      "source": [
        "# self-defined eval metric\n",
        "# f(y_true: array, y_pred: array) -> name: string, eval_result: float, is_higher_better: bool\n",
        "# Root Mean Squared Logarithmic Error (RMSLE)\n",
        "def rmsle(y_true, y_pred):\n",
        "    return 'RMSLE', np.sqrt(np.mean(np.power(np.log1p(y_pred) - np.log1p(y_true), 2))), False\n",
        "\n",
        "\n",
        "print('Starting training with custom eval function...')\n",
        "# train\n",
        "gbm.fit(X_train, y_train,\n",
        "        eval_set=[(X_test, y_test)],\n",
        "        eval_metric=rmsle,\n",
        "        early_stopping_rounds=5)\n",
        "\n",
        "print('Starting predicting...')\n",
        "# predict\n",
        "y_pred = gbm.predict(X_test, num_iteration=gbm.best_iteration_)\n",
        "# eval\n",
        "print('The rmsle of prediction is:', rmsle(y_test, y_pred)[1])"
      ]
    },
    {
      "cell_type": "markdown",
      "metadata": {
        "id": "ogZCdaaNXVIw"
      },
      "source": [
        "Подбор гиперпараметров"
      ]
    },
    {
      "cell_type": "code",
      "execution_count": null,
      "metadata": {
        "id": "gsTRENTjXVIw"
      },
      "outputs": [],
      "source": [
        "# other scikit-learn modules\n",
        "estimator = lgb.LGBMRegressor(num_leaves=31)\n",
        "\n",
        "param_grid = {\n",
        "    'learning_rate': [0.01, 0.1, 1],\n",
        "    'n_estimators': [20, 40]\n",
        "}\n",
        "\n",
        "gbm = GridSearchCV(estimator, param_grid, cv=3)\n",
        "gbm.fit(X_train, y_train)\n",
        "\n",
        "print('Best parameters found by grid search are:', gbm.best_params_)"
      ]
    },
    {
      "cell_type": "markdown",
      "metadata": {
        "id": "76fOKZ-MXVIw"
      },
      "source": [
        "Предсказание и оценка качества"
      ]
    },
    {
      "cell_type": "code",
      "execution_count": null,
      "metadata": {
        "id": "q5L8L-EXXVIw"
      },
      "outputs": [],
      "source": [
        "pred = gbm.predict(X_test)"
      ]
    },
    {
      "cell_type": "code",
      "execution_count": null,
      "metadata": {
        "id": "Q1bTGG2YXVIw"
      },
      "outputs": [],
      "source": [
        "from sklearn.metrics import mean_squared_error\n",
        "mean_squared_error(y_test, pred)"
      ]
    }
  ],
  "metadata": {
    "kernelspec": {
      "display_name": "Python 3",
      "language": "python",
      "name": "python3"
    },
    "language_info": {
      "codemirror_mode": {
        "name": "ipython",
        "version": 3
      },
      "file_extension": ".py",
      "mimetype": "text/x-python",
      "name": "python",
      "nbconvert_exporter": "python",
      "pygments_lexer": "ipython3",
      "version": "3.7.6"
    },
    "colab": {
      "name": "ws15-boosting-2.ipynb",
      "provenance": []
    }
  },
  "nbformat": 4,
  "nbformat_minor": 0
}